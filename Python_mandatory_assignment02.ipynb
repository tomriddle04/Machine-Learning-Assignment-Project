{
 "cells": [
  {
   "cell_type": "markdown",
   "metadata": {
    "colab_type": "text",
    "id": "l0ZzOlyxB-kf"
   },
   "source": [
    "<h1>Python: without numpy or sklearn </h1>"
   ]
  },
  {
   "cell_type": "markdown",
   "metadata": {
    "colab_type": "text",
    "id": "C0xO8JV9B-ki"
   },
   "source": [
    "<h3> Q1: Given two matrices please print the product of those two matrices </h3>\n",
    "<pre>\n",
    "\n",
    "Ex 1: A   = [[1 3 4]\n",
    "             [2 5 7]\n",
    "             [5 9 6]]\n",
    "      B   = [[1 0 0]\n",
    "             [0 1 0]\n",
    "             [0 0 1]]\n",
    "      A*B = [[1 3 4]\n",
    "             [2 5 7]\n",
    "             [5 9 6]]\n",
    "\n",
    "     \n",
    "Ex 2: A   = [[1 2]\n",
    "             [3 4]]\n",
    "      B   = [[1 2 3 4 5]\n",
    "             [5 6 7 8 9]]\n",
    "      A*B = [[11 14 17 20 23]\n",
    "             [18 24 30 36 42]]\n",
    "             \n",
    "Ex 3: A   = [[1 2]\n",
    "             [3 4]]\n",
    "      B   = [[1 4]\n",
    "             [5 6]\n",
    "             [7 8]\n",
    "             [9 6]]\n",
    "      A*B =Not possible\n",
    "</pre>"
   ]
  },
  {
   "cell_type": "code",
   "execution_count": 3,
   "metadata": {
    "colab": {},
    "colab_type": "code",
    "id": "rnssAfpgB-kj"
   },
   "outputs": [
    {
     "name": "stdout",
     "output_type": "stream",
     "text": [
      "Enter the no of rows and cols for matrics A\n",
      "2\n",
      "3\n",
      "Enter the no of rows and cols for matrics B\n",
      "3\n",
      "3\n",
      "Enter the element of metric A\n",
      "1\n",
      "2\n",
      "3\n",
      "4\n",
      "5\n",
      "6\n",
      "Enter the element of metric B\n",
      "0\n",
      "1\n",
      "5\n",
      "4\n",
      "7\n",
      "0\n",
      "0\n",
      "2\n",
      "1\n",
      "[[8, 21, 8], [20, 51, 26]]\n"
     ]
    }
   ],
   "source": [
    "###### write your python code here\n",
    "# you can take the above example as sample input for your program to test\n",
    "# it should work for any general input try not to hard code for only given input examples\n",
    "\n",
    "\n",
    "# you can free to change all these codes/structure\n",
    "# here A and B are list of lists\n",
    "def matrix_mul(A, B,r,c):\n",
    "    # write your code\n",
    "    res=[[0 for i in range(c)] for j in range(r)]\n",
    "    for i in range(len(A)):\n",
    "        for j in range(len(B[0])):\n",
    "            for k in range(len(B)):\n",
    "                res[i][j]+=(A[i][k]) * (B[k][j])\n",
    "\n",
    "    return res\n",
    "print('Enter the no of rows and cols for matrics A')\n",
    "r1=int(input())\n",
    "c1=int(input())\n",
    "print('Enter the no of rows and cols for matrics B')\n",
    "r2=int(input())\n",
    "c2=int(input())\n",
    "if(c1!=r2):\n",
    "    print('multiplication is not possible')\n",
    "    exit()\n",
    "\n",
    "else:\n",
    "    print('Enter the element of metric A')\n",
    "    A = [[int(input()) for x in range (c1)] for y in range(r1)] \n",
    "    print('Enter the element of metric B')\n",
    "    B=[[int(input()) for x in range(c2)] for y in range(r2)]\n",
    "    print(matrix_mul(A,B,r1,c2))\n",
    "    "
   ]
  },
  {
   "cell_type": "markdown",
   "metadata": {
    "colab_type": "text",
    "id": "at4VwLggB-kn"
   },
   "source": [
    "### <h3> Q2: Select a number randomly with probability proportional to its magnitude from the given array of n elements</h3>\n",
    "\n",
    "consider an experiment, selecting an element from the list A randomly with probability proportional to its magnitude.\n",
    "assume we are doing the same experiment for 100 times with replacement, in each experiment you will print a number that is selected randomly from A.\n",
    "\n",
    "<pre>\n",
    "Ex 1: A = [0 5 27 6 13 28 100 45 10 79]\n",
    "let f(x) denote the number of times x getting selected in 100 experiments.\n",
    "f(100) > f(79) > f(45) > f(28) > f(27) > f(13) > f(10) > f(6) > f(5) > f(0)\n",
    "</pre>"
   ]
  },
  {
   "cell_type": "code",
   "execution_count": 1,
   "metadata": {
    "colab": {},
    "colab_type": "code",
    "id": "B6S2dpBhB-kn"
   },
   "outputs": [
    {
     "name": "stdout",
     "output_type": "stream",
     "text": [
      "100\n",
      "79\n",
      "79\n",
      "27\n",
      "45\n",
      "5\n",
      "79\n",
      "45\n",
      "100\n",
      "45\n",
      "28\n",
      "79\n",
      "79\n",
      "10\n",
      "100\n",
      "13\n",
      "28\n",
      "79\n",
      "27\n",
      "79\n",
      "27\n",
      "45\n",
      "79\n",
      "28\n",
      "100\n",
      "5\n",
      "45\n",
      "79\n",
      "27\n",
      "79\n",
      "79\n",
      "45\n",
      "79\n",
      "45\n",
      "28\n",
      "28\n",
      "100\n",
      "6\n",
      "79\n",
      "79\n",
      "100\n",
      "100\n",
      "100\n",
      "100\n",
      "100\n",
      "27\n",
      "79\n",
      "79\n",
      "79\n",
      "28\n",
      "100\n",
      "79\n",
      "79\n",
      "79\n",
      "100\n",
      "13\n",
      "45\n",
      "100\n",
      "100\n",
      "100\n",
      "45\n",
      "79\n",
      "100\n",
      "45\n",
      "100\n",
      "45\n",
      "13\n",
      "100\n",
      "45\n",
      "79\n",
      "100\n",
      "79\n",
      "100\n",
      "79\n",
      "45\n",
      "13\n",
      "79\n",
      "27\n",
      "100\n",
      "100\n",
      "100\n",
      "100\n",
      "5\n",
      "100\n",
      "27\n",
      "100\n",
      "79\n",
      "79\n",
      "79\n",
      "100\n",
      "100\n",
      "45\n",
      "100\n",
      "100\n",
      "45\n",
      "79\n",
      "100\n",
      "100\n",
      "79\n"
     ]
    }
   ],
   "source": [
    "import pandas as pd\n",
    "from random import uniform\n",
    "def pick_a_number_from_list(A,l):\n",
    "    #print('sonu')\n",
    "    sum1=0;\n",
    "    for i in A:\n",
    "        sum1+=i;\n",
    "    x=0\n",
    "    list1=[]\n",
    "    for i in A:\n",
    "        list1.append(x+i/sum1)\n",
    "        x=x+i/sum1;\n",
    "#list1 contsins cumulative sum\n",
    "    bit=uniform(0,1)\n",
    "    for i in range (0,len(list1)):\n",
    "        if bit<list1[i]:\n",
    "            return A[i]\n",
    "\n",
    "\n",
    "\n",
    "A = [0,5,27,6,13,28,100,45,10,79]\n",
    "n = len(A)\n",
    "for i in range(1,100):\n",
    "    num = pick_a_number_from_list(A,n)\n",
    "    print(num)    \n",
    "\n"
   ]
  },
  {
   "cell_type": "markdown",
   "metadata": {
    "colab_type": "text",
    "id": "D1xQy2WWB-kq"
   },
   "source": [
    "## <h3> Q3: Replace the digits in the string with #</h3>\n",
    "\n",
    "consider a string that will have digits in that, we need to remove all the not digits and replace the digits with #\n",
    "<pre>\n",
    "Ex 1: A = 234                Output: ###\n",
    "Ex 2: A = a2b3c4             Output: ###\n",
    "Ex 3: A = abc                Output:   (empty string)\n",
    "Ex 5: A = #2a$#b%c%561#      Output: ####\n",
    "</pre>"
   ]
  },
  {
   "cell_type": "code",
   "execution_count": 5,
   "metadata": {
    "colab": {},
    "colab_type": "code",
    "id": "fxczi2jzB-kr"
   },
   "outputs": [
    {
     "name": "stdout",
     "output_type": "stream",
     "text": [
      "234 a2b3c4 abc #2a$#b%c%561# \n",
      "Input = 234 Output = ###\n",
      "Input = a2b3c4 Output = ###\n",
      "Input = abc Output = \n",
      "Input = #2a$#b%c%561# Output = ####\n"
     ]
    }
   ],
   "source": [
    "import re\n",
    "l = list(map(str,input().split()))\n",
    "for i in l:\n",
    "    new_s = '#' * len(re.sub(r'\\D', '', i))\n",
    "    print('Input = {} Output = {}'.format(i, new_s))\n",
    "            "
   ]
  },
  {
   "cell_type": "markdown",
   "metadata": {
    "colab_type": "text",
    "id": "j7h0Ywg7B-kw"
   },
   "source": [
    "<h3> Q4: Students marks dashboard</h3>\n",
    "\n",
    "consider the marks list of class students given two lists <br>\n",
    "Students = ['student1','student2','student3','student4','student5','student6','student7','student8','student9','student10'] <br>\n",
    "Marks = [45, 78, 12, 14, 48, 43, 45, 98, 35, 80] <br>\n",
    "from the above two lists the Student[0] got Marks[0],  Student[1] got Marks[1] and so on <br><br>\n",
    "your task is to print the name of students\n",
    "<strong>a. Who got top 5 ranks, in the descending order of marks</strong> <br>\n",
    "<strong>b. Who got least 5 ranks, in the increasing order of marks</strong><br>\n",
    "<strong>d. Who got marks between  &gt;25th percentile &lt;75th percentile, in the increasing order of marks</strong>\n",
    "\n",
    "<pre>\n",
    "Ex 1: \n",
    "Students=['student1','student2','student3','student4','student5','student6','student7','student8','student9','student10'] \n",
    "Marks = [45, 78, 12, 14, 48, 43, 47, 98, 35, 80]\n",
    "a. \n",
    "student8  98\n",
    "student10 80\n",
    "student2  78\n",
    "student5  48\n",
    "student7  47\n",
    "b.\n",
    "student3 12\n",
    "student4 14\n",
    "student9 35\n",
    "student6 43\n",
    "student1 45\n",
    "c.\n",
    "student9 35\n",
    "student6 43\n",
    "student1 45\n",
    "student7 47\n",
    "student5 48\n",
    "</pre>"
   ]
  },
  {
   "cell_type": "code",
   "execution_count": 59,
   "metadata": {
    "colab": {},
    "colab_type": "code",
    "id": "cxPJgItsB-kx"
   },
   "outputs": [
    {
     "name": "stdout",
     "output_type": "stream",
     "text": [
      "a.  Who got top 5 rank in descending order: \n",
      "student8: 98\n",
      "student10: 80\n",
      "student2: 78\n",
      "student5: 48\n",
      "student7: 47\n",
      "b.Who got least 5 ranks, in the increasing order of marks\n",
      "student3: 12 \n",
      "student4: 14 \n",
      "student9: 35 \n",
      "student6: 43 \n",
      "student1: 45 \n",
      "c.Who got marks between >25th percentile <75th percentile, in the increasing order of marks\n",
      "student9 :  35\n",
      "student6 :  43\n",
      "student1 :  45\n",
      "student7 :  47\n",
      "student5 :  48\n"
     ]
    }
   ],
   "source": [
    "import math\n",
    "from collections import Counter\n",
    "from operator import itemgetter\n",
    "Students=['student1','student2','student3','student4','student5','student6','student7','student8','student9','student10'] \n",
    "Marks = [45, 78, 12, 14, 48, 43, 47, 98, 35, 80]\n",
    "dic=dict(zip(Students,Marks))\n",
    "#print(dic)\n",
    "print('a.  Who got top 5 rank in descending order: ')\n",
    "for key,val in sorted(dic.items(), key=lambda item: item[1],reverse=True)[:5]:\n",
    "          print(\"%s: %s\" % (key, val))\n",
    "print('b.Who got least 5 ranks, in the increasing order of marks')\n",
    "for key,val in sorted(dic.items(),key=lambda item: item[1],reverse=False)[:5]:\n",
    "          print('%s: %s ' % (key,val))\n",
    "print('c.Who got marks between >25th percentile <75th percentile, in the increasing order of marks')\n",
    "dic = dict(sorted(x.items(), key=lambda kv: kv[1]))\n",
    "p1=math.floor(len(dic)*.25)\n",
    "p2=math.ceil(len(dic)*.75) \n",
    "i=0\n",
    "for key, value in dic.items():\n",
    "    i+=1\n",
    "    if(i>p1 and i<p2):\n",
    "        print(key,\": \",value)\n"
   ]
  },
  {
   "cell_type": "markdown",
   "metadata": {
    "colab_type": "text",
    "id": "qha0OhQHB-k1"
   },
   "source": [
    "<h3> Q5: Find the closest points</h3>\n",
    "\n",
    "consider you have given n data points in the form of list of tuples like S=[(x1,y1),(x2,y2),(x3,y3),(x4,y4),(x5,y5),..,(xn,yn)] and a point P=(p,q) <br> your task is to find 5 closest points(based on cosine distance) in S from P\n",
    "<br>cosine distance between two points (x,y) and (p,q) is defind as $cos^{-1}(\\frac{(x\\cdot p+y\\cdot q)}{\\sqrt(x^2+y^2)\\cdot\\sqrt(p^2+q^2)})$\n",
    "<pre>\n",
    "Ex:\n",
    "\n",
    "S= [(1,2),(3,4),(-1,1),(6,-7),(0, 6),(-5,-8),(-1,-1)(6,0),(1,-1)]\n",
    "P= (3,-4)\n",
    "<img src='https://i.imgur.com/vIFPOcG.jpg', width=300>\n",
    "Output:\n",
    "(6,-7)\n",
    "(1,-1)\n",
    "(6,0)\n",
    "(-5,-8)\n",
    "(-1,-1)\n",
    "</pre>"
   ]
  },
  {
   "cell_type": "code",
   "execution_count": 8,
   "metadata": {
    "colab": {},
    "colab_type": "code",
    "id": "wA5I1g-2B-k2"
   },
   "outputs": [
    {
     "name": "stdout",
     "output_type": "stream",
     "text": [
      "(6, -7) 0.06512516333438509\n",
      "(1, -1) 0.14189705460416438\n",
      "(6, 0) 0.9272952180016123\n",
      "(-5, -8) 1.2021004241368467\n",
      "(-1, -1) 1.4288992721907328\n"
     ]
    }
   ],
   "source": [
    "from math import acos\n",
    "from math import sqrt\n",
    "m={}\n",
    "s= [(1,2),(3,4),(-1,1),(6,-7),(0, 6),(-5,-8),(-1,-1),(6,0),(1,-1)]\n",
    "p=(3,-4)\n",
    "l=[()]\n",
    "l.pop()\n",
    "for i in range(len(s)):\n",
    "    a=(s[i][0]*p[0])+(s[i][1]*p[1])\n",
    "    b=sqrt((s[i][0]*s[i][0])+(s[i][1]*s[i][1]))\n",
    "    c=sqrt( (p[0]*p[0])+(p[1]*p[1]))\n",
    "    z=acos(a/(b*c))\n",
    "    k=(s[i][0],s[i][1])\n",
    "    m[k]=z\n",
    "m={k: v for k, v in sorted(m.items(), key=lambda item: item[1])}\n",
    "flag=0\n",
    "for i,j in m.items():\n",
    "    flag+=1\n",
    "    print(i,j,sep=\" \")\n",
    "    if(flag==5):\n",
    "        break"
   ]
  },
  {
   "cell_type": "markdown",
   "metadata": {
    "colab_type": "text",
    "id": "-g11jeAiB-k5"
   },
   "source": [
    "<h3> Q6: Find Which line separates oranges and apples</h3>\n",
    "consider you have given two set of data points in the form of list of tuples like \n",
    "<pre>\n",
    "Red =[(R11,R12),(R21,R22),(R31,R32),(R41,R42),(R51,R52),..,(Rn1,Rn2)]\n",
    "Blue=[(B11,B12),(B21,B22),(B31,B32),(B41,B42),(B51,B52),..,(Bm1,Bm2)]\n",
    "</pre>\n",
    "and set of line equations(in the string formate, i.e list of strings)\n",
    "<pre>\n",
    "Lines = [a1x+b1y+c1,a2x+b2y+c2,a3x+b3y+c3,a4x+b4y+c4,..,K lines]\n",
    "Note: you need to string parsing here and get the coefficients of x,y and intercept\n",
    "</pre>\n",
    "your task is to for each line that is given print \"YES\"/\"NO\", you will print yes, if all the red points are one side of the line and blue points are other side of the line, otherwise no\n",
    "<pre>\n",
    "Ex:\n",
    "Red= [(1,1),(2,1),(4,2),(2,4), (-1,4)]\n",
    "Blue= [(-2,-1),(-1,-2),(-3,-2),(-3,-1),(1,-3)]\n",
    "Lines=[\"1x+1y+0\",\"1x-1y+0\",\"1x+0y-3\",\"0x+1y-0.5\"]\n",
    "<img src='https://i.imgur.com/DoQf7mE.jpg' width=400>\n",
    "Output:\n",
    "YES\n",
    "NO\n",
    "NO\n",
    "YES\n",
    "</pre>"
   ]
  },
  {
   "cell_type": "code",
   "execution_count": 20,
   "metadata": {
    "colab": {},
    "colab_type": "code",
    "id": "eRxExaTRB-k6"
   },
   "outputs": [
    {
     "name": "stdout",
     "output_type": "stream",
     "text": [
      "YES\n",
      "NO\n",
      "NO\n",
      "YES\n"
     ]
    }
   ],
   "source": [
    "import math\n",
    "import re\n",
    "l=[[]]\n",
    "l.pop()\n",
    "Red= [(1,1),(2,1),(4,2),(2,4), (-1,4)]\n",
    "Blue= [(-2,-1),(-1,-2),(-3,-2),(-3,-1),(1,-3)]\n",
    "Lines=[\"1x+1y+0\",\"1x-1y+0\",\"1x+0y-3\",\"0x+1y-0.5\"]\n",
    "for i in Lines:\n",
    "    p=re.findall(r'[\\d\\.\\+\\-]+',i)\n",
    "    l.append(p)\n",
    "#print((l))\n",
    "\n",
    "for p in l:\n",
    "    i=0\n",
    "    k=0\n",
    "    #print('p: ',p)\n",
    "    mul1_Red=[]\n",
    "    mul2_Blue=[]\n",
    "    for x in Red:\n",
    "        dist1=(float(p[0])*Red[i][0]) + (float(p[1])*Red[i][1]) + (float(p[2]))\n",
    "        dist2=(float(p[0])*Blue[i][0]) + (float(p[1])*Blue[i][1]) + (float(p[2]))\n",
    "        mul1_Red.append(dist1)\n",
    "        mul2_Blue.append(dist2)\n",
    "        i+=1\n",
    "    #print(mul1_Red)\n",
    "    #print(mul2_Blue)\n",
    "    for m in mul1_Red:\n",
    "        for n in mul2_Blue:\n",
    "            if( (m>0 and n>0) or (m<0 and n<0)):\n",
    "                print('NO')\n",
    "                k=1\n",
    "                break\n",
    "        if(k==1): break\n",
    "    if(k==0):\n",
    "        print('YES')\n",
    "  \n",
    "\n",
    "\n",
    "\n",
    "\n",
    "    \n",
    "        \n",
    "\n"
   ]
  },
  {
   "cell_type": "code",
   "execution_count": null,
   "metadata": {},
   "outputs": [],
   "source": []
  },
  {
   "cell_type": "markdown",
   "metadata": {
    "colab_type": "text",
    "id": "9OBpURbNB-k9"
   },
   "source": [
    "<h3> Q7: Filling the missing values in the specified formate</h3>\n",
    "You will be given a string with digits and '\\_'(missing value) symbols you have to replace the '\\_' symbols as explained \n",
    "<pre>\n",
    "Ex 1: _, _, _, 24 ==> 24/4, 24/4, 24/4, 24/4 i.e we. have distributed the 24 equally to all 4 places <br>\n",
    "Ex 2: 40, _, _, _, 60 ==> (60+40)/5,(60+40)/5,(60+40)/5,(60+40)/5,(60+40)/5 ==> 20, 20, 20, 20, 20 i.e. the sum of (60+40) is distributed qually to all 5 places<br>\n",
    "Ex 3: 80, _, _, _, _  ==> 80/5,80/5,80/5,80/5,80/5 ==> 16, 16, 16, 16, 16 i.e. the 80 is distributed qually to all 5 missing values that are right to it<br>\n",
    "Ex 4: _, _, 30, _, _, _, 50, _, _  \n",
    "==> we will fill the missing values from left to right \n",
    "    a. first we will distribute the 30 to left two missing values (10, 10, 10, _, _, _, 50, _, _)\n",
    "    b. now distribute the sum (10+50) missing values in between (10, 10, 12, 12, 12, 12, 12, _, _) \n",
    "    c. now we will distribute 12 to right side missing values (10, 10, 12, 12, 12, 12, 4, 4, 4)\n",
    "</pre>\n",
    "for a given string with comma seprate values, which will have both missing values numbers like ex: \"_, _, x, _, _, _\"\n",
    "you need fill the missing values\n",
    "\n",
    "Q: your program reads a string like ex: \"_, _, x, _, _, _\" and returns the filled sequence\n",
    "\n",
    "Ex: \n",
    "<pre>\n",
    "Input1: \"_,_,_,24\"\n",
    "Output1: 6,6,6,6\n",
    "\n",
    "Input2: \"40,_,_,_,60\"\n",
    "Output2: 20,20,20,20,20\n",
    "\n",
    "Input3: \"80,_,_,_,_\"\n",
    "Output3: 16,16,16,16,16\n",
    "\n",
    "Input4: \"_,_,30,_,_,_,50,_,_\"\n",
    "Output4: 10,10,12,12,12,12,4,4,4\n",
    "</pre>\n",
    "\n"
   ]
  },
  {
   "cell_type": "code",
   "execution_count": 12,
   "metadata": {},
   "outputs": [
    {
     "name": "stdout",
     "output_type": "stream",
     "text": [
      "_,_,30,_,_,_,50,_,_\n",
      "[10.0, 10.0, 12.0, 12.0, 12.0, 12.0, 4.0, 4.0, 4.0]\n"
     ]
    }
   ],
   "source": [
    "def replaceleft(sums,start,end):\n",
    "    div=end-start+1\n",
    "    for i in range(start,end+1):\n",
    "        ans.append(sums/div)\n",
    "    return (sums/div)\n",
    "S=input()\n",
    "a=S.split(',')\n",
    "ans=[]\n",
    "end,start,sums=0,0,0\n",
    "for i in range(len(a)):\n",
    "    if(a[i]!='_'):\n",
    "        end=i\n",
    "        if(start==end):\n",
    "            sums=int(float(a[i]))+sums\n",
    "        else:\n",
    "            sums+=int(float(a[i]))\n",
    "            sums=replaceleft(sums,start,end)\n",
    "            if(i!=len(a)-1):\n",
    "                ans.pop()\n",
    "                start=i\n",
    "    else:\n",
    "        continue\n",
    "if(end!=len(a)-1):\n",
    "    end=len(a)-1\n",
    "    replaceleft(sums,start,end)\n",
    "print((ans))"
   ]
  },
  {
   "cell_type": "markdown",
   "metadata": {
    "colab_type": "text",
    "id": "RBz4pzlfB-lB"
   },
   "source": [
    "<h3> Q8: Filling the missing values in the specified formate</h3>\n",
    "You will be given a list of lists, each sublist will be of length 2 i.e. [[x,y],[p,q],[l,m]..[r,s]]\n",
    "consider its like a martrix of n rows and two columns\n",
    "1. the first column F will contain only 5 uniques values (F1, F2, F3, F4, F5)\n",
    "2. the second column S will contain only 3 uniques values (S1, S2, S3)\n",
    "<pre>\n",
    "your task is to find\n",
    "a. Probability of P(F=F1|S==S1), P(F=F1|S==S2), P(F=F1|S==S3)\n",
    "b. Probability of P(F=F2|S==S1), P(F=F2|S==S2), P(F=F2|S==S3)\n",
    "c. Probability of P(F=F3|S==S1), P(F=F3|S==S2), P(F=F3|S==S3)\n",
    "d. Probability of P(F=F4|S==S1), P(F=F4|S==S2), P(F=F4|S==S3)\n",
    "e. Probability of P(F=F5|S==S1), P(F=F5|S==S2), P(F=F5|S==S3)\n",
    "</pre>\n",
    "Ex:\n",
    "\n",
    "<pre>\n",
    "[[F1,S1],[F2,S2],[F3,S3],[F1,S2],[F2,S3],[F3,S2],[F2,S1],[F4,S1],[F4,S3],[F5,S1]]\n",
    "\n",
    "a. P(F=F1|S==S1)=1/2, P(F=F1|S==S2)=1/2, P(F=F1|S==S3)=0/2\n",
    "b. P(F=F2|S==S1)=1/3, P(F=F2|S==S2)=1/3, P(F=F2|S==S3)=1/3\n",
    "c. P(F=F3|S==S1)=0/3, P(F=F3|S==S2)=1/2, P(F=F3|S==S3)=1/2\n",
    "d. P(F=F4|S==S1)=1/2, P(F=F4|S==S2)=0/2, P(F=F4|S==S3)=1/2\n",
    "e. P(F=F5|S==S1)=1/1, P(F=F5|S==S2)=0/1, P(F=F5|S==S3)=0/1\n",
    "</pre>\n",
    "\n"
   ]
  },
  {
   "cell_type": "code",
   "execution_count": 22,
   "metadata": {
    "colab": {},
    "colab_type": "code",
    "id": "e-1giz1MB-lC"
   },
   "outputs": [
    {
     "name": "stdout",
     "output_type": "stream",
     "text": [
      "F1\n",
      "S1\n",
      "1 / 4 \n",
      "F1\n",
      "S2\n",
      "1 / 3 \n",
      "F1\n",
      "S3\n",
      "0 / 3 \n",
      "F2\n",
      "S1\n",
      "1 / 4 \n",
      "F2\n",
      "S2\n",
      "1 / 3 \n",
      "F2\n",
      "S3\n",
      "1 / 3 \n",
      "F3\n",
      "S1\n",
      "0 / 4 \n",
      "F3\n",
      "S2\n",
      "1 / 3 \n",
      "F3\n",
      "S3\n",
      "1 / 3 \n",
      "F4\n",
      "S1\n",
      "1 / 4 \n",
      "F4\n",
      "S2\n",
      "0 / 3 \n",
      "F4\n",
      "S3\n",
      "1 / 3 \n",
      "F5\n",
      "S1\n",
      "1 / 4 \n",
      "F5\n",
      "S2\n",
      "0 / 3 \n",
      "F5\n",
      "S3\n",
      "0 / 3 \n"
     ]
    }
   ],
   "source": [
    "A = [['F1','S1'],['F2','S2'],['F3','S3'],['F1','S2'],['F2','S3'],['F3','S2'],['F2','S1'],['F4','S1'],['F4','S3'],['F5','S1']]\n",
    "cnt=15\n",
    "while(cnt):\n",
    "    F=input()\n",
    "    S=input()\n",
    "    num=0\n",
    "    deno=0\n",
    "    for i in range(len(A)):\n",
    "        if(A[i][1]==S):\n",
    "            deno+=1\n",
    "        if(A[i][1]==S and A[i][0]==F):\n",
    "            num+=1\n",
    "    if(deno!=0):\n",
    "        print(num,'/',deno,end=' ')\n",
    "        print()\n",
    "    else:\n",
    "        print(0)\n",
    "    cnt-=1\n",
    "\n"
   ]
  },
  {
   "cell_type": "markdown",
   "metadata": {
    "colab_type": "text",
    "id": "n4HS87QmB-lF"
   },
   "source": [
    "<h3> Q9: Given two sentances S1, S2</h3>\n",
    "You will be given two sentances S1, S2 your task is to find \n",
    "<pre>\n",
    "a. Number of common words between S1, S2\n",
    "b. Words in S1 but not in S2\n",
    "c. Words in S2 but not in S1\n",
    "</pre>\n",
    "\n",
    "Ex: \n",
    "<pre>\n",
    "S1= \"the first column F will contain only 5 uniques values\"\n",
    "S2= \"the second column S will contain only 3 uniques values\"\n",
    "Output:\n",
    "a. 7\n",
    "b. ['first','F','5']\n",
    "c. ['second','S','3']\n",
    "</pre>"
   ]
  },
  {
   "cell_type": "code",
   "execution_count": 13,
   "metadata": {
    "colab": {},
    "colab_type": "code",
    "id": "Ez7hlHK0B-lG"
   },
   "outputs": [
    {
     "name": "stdout",
     "output_type": "stream",
     "text": [
      "['the', 'first', 'column', 'F', 'will', 'contain', 'only', '5', 'uniques', 'values']\n",
      "['the', 'second', 'column', 'S', 'will', 'contain', 'only', '3', 'uniques', 'values']\n",
      "a. 7\n",
      "b.  ['first', 'F', '5']\n",
      "c.  ['second', 'S', '3']\n"
     ]
    }
   ],
   "source": [
    "s1= \"the first column F will contain only 5 uniques values\"\n",
    "s2= \"the second column S will contain only 3 uniques values\"\n",
    "s=s1+\" \"+s2\n",
    "l1=list(s1.split(' '))\n",
    "l2=list(s2.split(' '))\n",
    "print(l1)\n",
    "print(l2)\n",
    "l3=[]\n",
    "l4=[]\n",
    "cnt=0\n",
    "for word in l1:\n",
    "    if(word in l2):\n",
    "        cnt+=1\n",
    "    if(word not in s2):\n",
    "        l3.append(word)\n",
    "print('a.' ,cnt)\n",
    "print('b. ',l3)\n",
    "for w in l2:\n",
    "    if(w not in s1):\n",
    "        l4.append(w)\n",
    "print('c. ',l4)\n"
   ]
  },
  {
   "cell_type": "markdown",
   "metadata": {
    "colab_type": "text",
    "id": "XefXVEjCB-lI"
   },
   "source": [
    "<h3> Q10: Given two sentances S1, S2</h3>\n",
    "You will be given a list of lists, each sublist will be of length 2 i.e. [[x,y],[p,q],[l,m]..[r,s]]\n",
    "consider its like a martrix of n rows and two columns\n",
    "\n",
    "a. the first column Y will contain interger values <br>\n",
    "b. the second column $Y_{score}$ will be having float values <br>\n",
    "Your task is to find the value of $f(Y,Y_{score}) = -1*\\frac{1}{n}\\Sigma_{for each Y,Y_{score} pair}(Ylog10(Y_{score})+(1-Y)log10(1-Y_{score}))$ here n is the number of rows in the matrix\n",
    "<pre>\n",
    "Ex:\n",
    "[[1, 0.4], [0, 0.5], [0, 0.9], [0, 0.3], [0, 0.6], [1, 0.1], [1, 0.9], [1, 0.8]]\n",
    "output:\n",
    "0.4243099\n",
    "</pre>\n",
    "$\\frac{-1}{8}\\cdot((1\\cdot log_{10}(0.4)+0\\cdot log_{10}(0.6))+(0\\cdot log_{10}(0.5)+1\\cdot log_{10}(0.5)) + ... + (1\\cdot log_{10}(0.8)+0\\cdot log_{10}(0.2)) )$"
   ]
  },
  {
   "cell_type": "code",
   "execution_count": 14,
   "metadata": {
    "colab": {},
    "colab_type": "code",
    "id": "N9zkagyNB-lJ"
   },
   "outputs": [
    {
     "name": "stdout",
     "output_type": "stream",
     "text": [
      "0.42430993457031635\n"
     ]
    }
   ],
   "source": [
    "#Done\n",
    "from math import log\n",
    "A = [[1, 0.4], [0, 0.5], [0, 0.9], [0, 0.3], [0, 0.6], [1, 0.1], [1, 0.9], [1, 0.8]]\n",
    "ans=0\n",
    "for i in range(len(A)):\n",
    "    ans+=(A[i][0]*log(A[i][1],10)) + ( (1-A[i][0])*log(1-A[i][1],10))\n",
    "    #print(ans)\n",
    "ans=(-1/len(A))*ans\n",
    "print(ans)\n"
   ]
  },
  {
   "cell_type": "code",
   "execution_count": null,
   "metadata": {},
   "outputs": [],
   "source": []
  },
  {
   "cell_type": "code",
   "execution_count": null,
   "metadata": {},
   "outputs": [],
   "source": []
  },
  {
   "cell_type": "markdown",
   "metadata": {},
   "source": [
    "#### "
   ]
  }
 ],
 "metadata": {
  "colab": {
   "collapsed_sections": [],
   "name": "1.Python Assignment.ipynb",
   "provenance": []
  },
  "kernelspec": {
   "display_name": "Python 3",
   "language": "python",
   "name": "python3"
  },
  "language_info": {
   "codemirror_mode": {
    "name": "ipython",
    "version": 3
   },
   "file_extension": ".py",
   "mimetype": "text/x-python",
   "name": "python",
   "nbconvert_exporter": "python",
   "pygments_lexer": "ipython3",
   "version": "3.7.1"
  }
 },
 "nbformat": 4,
 "nbformat_minor": 1
}
