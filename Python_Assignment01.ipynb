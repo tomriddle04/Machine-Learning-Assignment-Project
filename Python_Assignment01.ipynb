{
 "cells": [
  {
   "cell_type": "markdown",
   "metadata": {},
   "source": [
    "### Assignment 1"
   ]
  },
  {
   "cell_type": "markdown",
   "metadata": {},
   "source": [
    "## Q.1 Write a function that inputs a number and prints the multiplication table of that number"
   ]
  },
  {
   "cell_type": "code",
   "execution_count": 8,
   "metadata": {},
   "outputs": [
    {
     "name": "stdout",
     "output_type": "stream",
     "text": [
      "10\n",
      "10\n",
      "20\n",
      "30\n",
      "40\n",
      "50\n",
      "60\n",
      "70\n",
      "80\n",
      "90\n",
      "100\n"
     ]
    }
   ],
   "source": [
    "def mult(n):\n",
    "    i=1\n",
    "    while(i<11):\n",
    "        print(i*n)\n",
    "        i+=1\n",
    "mult(int(input()))\n"
   ]
  },
  {
   "cell_type": "markdown",
   "metadata": {},
   "source": [
    "## 2. Write a program to print twin primes less than 1000. If two consecutive odd numbers are both prime then they are known as twin primes"
   ]
  },
  {
   "cell_type": "code",
   "execution_count": 4,
   "metadata": {},
   "outputs": [
    {
     "name": "stdout",
     "output_type": "stream",
     "text": [
      "All twin prime numbers under 1000\n",
      "3 5\n",
      "5 7\n",
      "11 13\n",
      "17 19\n",
      "29 31\n",
      "41 43\n",
      "59 61\n",
      "71 73\n",
      "101 103\n",
      "107 109\n",
      "137 139\n",
      "149 151\n",
      "179 181\n",
      "191 193\n",
      "197 199\n",
      "227 229\n",
      "239 241\n",
      "269 271\n",
      "281 283\n",
      "311 313\n",
      "347 349\n",
      "419 421\n",
      "431 433\n",
      "461 463\n",
      "521 523\n",
      "569 571\n",
      "599 601\n",
      "617 619\n",
      "641 643\n",
      "659 661\n",
      "809 811\n",
      "821 823\n",
      "827 829\n",
      "857 859\n",
      "881 883\n"
     ]
    }
   ],
   "source": [
    "from math import sqrt\n",
    "from math import gcd\n",
    "n=1001\n",
    "m=[]\n",
    "l=[True]*(n)\n",
    "l[0]=l[1]=False\n",
    "for i in range(2,n):\n",
    "    if(l[i]==True):\n",
    "        for j in range(2,(n-1)//i+1):\n",
    "            l[i*j]=False\n",
    "for i in range(1,n):\n",
    "    if(l[i]==True):\n",
    "        m.append(i)\n",
    "        #print(i)\n",
    "print('All twin prime numbers under 1000')\n",
    "for i in range(1,len(m),1):\n",
    "    if(m[i]-m[i-1]==2):\n",
    "        print(m[i-1],m[i])\n",
    "\n",
    "\n",
    "    \n",
    "#    for i in range(1,n,1):\n",
    "#        for j in range(i+1,n-1,1):\n",
    "#            if(l[i]==1 and l[j]==1 and gcd(l[i],l[j])==1):\n",
    "#                print(i,\"\",j,end='  ')\n",
    "#i make the above line as comment which it generate a very large output and when i am going to convert this into html to pdf \n",
    "#it causes problem you can run it on your pc it work"
   ]
  },
  {
   "cell_type": "markdown",
   "metadata": {},
   "source": [
    "## Q.3 Write a program to find out the prime factors of a number. Example: prime factors of 56 -2, 2, 2, 7"
   ]
  },
  {
   "cell_type": "code",
   "execution_count": 10,
   "metadata": {},
   "outputs": [
    {
     "name": "stdout",
     "output_type": "stream",
     "text": [
      "56\n",
      "[2, 2, 2, 7]\n"
     ]
    }
   ],
   "source": [
    "from math import sqrt\n",
    "n=int(input())\n",
    "l=[]\n",
    "while(n>1):\n",
    "    for i in range(2,n+1,1):\n",
    "        if(n%i==0):\n",
    "            l.append(i)\n",
    "            \n",
    "            n=n//l[-1]\n",
    "            break\n",
    "           # print(n)\n",
    "            #print('sonu')\n",
    "l.sort(reverse=False)\n",
    "print(l)"
   ]
  },
  {
   "cell_type": "markdown",
   "metadata": {},
   "source": [
    "## Q.4. Write a program to implement these formulae of permutations and combinations.Number of permutations of n objects taken r at a time: p(n, r) = n! / (n-r)!. Number of combinations of n objects taken r at a time is: c(n, r) = n! / (r!*(n-r)!) = p(n,r) / r!"
   ]
  },
  {
   "cell_type": "code",
   "execution_count": 11,
   "metadata": {},
   "outputs": [
    {
     "name": "stdout",
     "output_type": "stream",
     "text": [
      "10\n",
      "2\n",
      "90\n",
      "45\n"
     ]
    }
   ],
   "source": [
    "from math import factorial\n",
    "def permutation(n,r):\n",
    "    return ( factorial(n)//(factorial(n-r)) )\n",
    "def combination(n,r):\n",
    "    return ( factorial(n)//(factorial(n-r)*factorial(r)))\n",
    "n=int(input())\n",
    "r=int(input())\n",
    "print(permutation(n,r))\n",
    "print(combination(n,r))\n"
   ]
  },
  {
   "cell_type": "markdown",
   "metadata": {},
   "source": [
    "## Q 5. Write a function that converts a decimal number to binary number"
   ]
  },
  {
   "cell_type": "code",
   "execution_count": 12,
   "metadata": {},
   "outputs": [
    {
     "name": "stdout",
     "output_type": "stream",
     "text": [
      "65\n",
      "[1, 0, 0, 0, 0, 0, 1]\n"
     ]
    }
   ],
   "source": [
    "def decimal_to_binary(n):\n",
    "    l=[]\n",
    "    while(n>0):\n",
    "        if(n%2==1):\n",
    "            l.append(1)\n",
    "        else:\n",
    "            l.append(0)\n",
    "        n//=2\n",
    "    return (l[::-1])\n",
    "print(decimal_to_binary(int(input())))\n",
    "    "
   ]
  },
  {
   "cell_type": "markdown",
   "metadata": {},
   "source": [
    "## Q.6 Write a function cubesum() that accepts an integer and returns the sum of the cubes of individual digits of that number. Use this function to make functions PrintArmstrong() and isArmstrong() to print Armstrong numbers and to find whether is an Armstrong number."
   ]
  },
  {
   "cell_type": "code",
   "execution_count": 15,
   "metadata": {},
   "outputs": [
    {
     "name": "stdout",
     "output_type": "stream",
     "text": [
      "153\n",
      "Yes this 153 is a armstrong number\n"
     ]
    }
   ],
   "source": [
    "def cubesum(n):\n",
    "    sum=0\n",
    "    while(n>0):\n",
    "        p=n%10\n",
    "        sum=sum+(p*p*p)\n",
    "        n//=10\n",
    "    return sum\n",
    "n=int(input())\n",
    "d=cubesum(n)\n",
    "if(d==n):\n",
    "    print('Yes this {} is a armstrong number'.format(n))\n",
    "else:\n",
    "    print('No this is {} not a armstrong number'.format(n))\n",
    "    \n",
    "    "
   ]
  },
  {
   "cell_type": "markdown",
   "metadata": {},
   "source": [
    "#### Q.7 Write a function prodDigits() that inputs a number and returns the product of digits of that number.\n",
    "\n"
   ]
  },
  {
   "cell_type": "code",
   "execution_count": 14,
   "metadata": {},
   "outputs": [
    {
     "name": "stdout",
     "output_type": "stream",
     "text": [
      "123456789\n",
      "362880\n"
     ]
    }
   ],
   "source": [
    "def prodDigit(n):\n",
    "    p=1\n",
    "    while(n>0):\n",
    "        p=(p)*(n%10)\n",
    "        n//=10\n",
    "    return p\n",
    "print(prodDigit(int(input())))\n",
    "\n",
    "        "
   ]
  },
  {
   "cell_type": "markdown",
   "metadata": {},
   "source": [
    "## Q.8. If all digits of a number n are multiplied by each other repeating with the product, the one digit number obtained at last is called the multiplicative digital root of n. The number of times digits need to be multiplied to reach one digit is called the multiplicative persistance of n. Example: 86 -> 48 -> 32 -> 6 (MDR 6, MPersistence 3)  341 -> 12->2 (MDR 2, MPersistence 2) Using the function prodDigits() of previous exercise write functions MDR() and  MPersistence() that input a number and return its multiplicative digital root and multiplicative persistence respectively\n"
   ]
  },
  {
   "cell_type": "code",
   "execution_count": 16,
   "metadata": {},
   "outputs": [
    {
     "name": "stdout",
     "output_type": "stream",
     "text": [
      "341\n",
      "2\n"
     ]
    }
   ],
   "source": [
    "n=int(input())\n",
    "while(True):\n",
    "    m=n\n",
    "    p=1\n",
    "    while(m>0):\n",
    "        p=p*(m%10)\n",
    "        m//=10\n",
    "    n=p\n",
    "    if(n<10):\n",
    "        break\n",
    "print(n)\n",
    "        "
   ]
  },
  {
   "cell_type": "markdown",
   "metadata": {},
   "source": [
    "## Q.9 Write a function sumPdivisors() that finds the sum of proper divisors of a number. Proper\n",
    "## divisors of a number are those numbers by which the number is divisible, except the\n",
    "## number itself. For example proper divisors of 36 are 1, 2, 3, 4, 6, 9, 18"
   ]
  },
  {
   "cell_type": "code",
   "execution_count": 17,
   "metadata": {},
   "outputs": [
    {
     "name": "stdout",
     "output_type": "stream",
     "text": [
      "36\n",
      "55\n"
     ]
    }
   ],
   "source": [
    "def sumPdivisors(n):\n",
    "    sum=0\n",
    "    for i in range(1,int(sqrt(n)+1),1):\n",
    "        if(n%i==0):\n",
    "            sum=sum+i+n//i\n",
    "        if(sqrt(n)==i):\n",
    "            sum=sum-i\n",
    "    return (sum-n)\n",
    "from math import sqrt\n",
    "print(sumPdivisors(int(input())))"
   ]
  },
  {
   "cell_type": "markdown",
   "metadata": {},
   "source": [
    "## Q.10. A number is called perfect if the sum of proper divisors of that number is equal to the number. For example 28 is perfect number, since 1+2+4+7+14=28. Write a program to print all the perfect numbers in a given range"
   ]
  },
  {
   "cell_type": "code",
   "execution_count": 18,
   "metadata": {},
   "outputs": [
    {
     "name": "stdout",
     "output_type": "stream",
     "text": [
      "28\n",
      "[6, 28]\n"
     ]
    }
   ],
   "source": [
    "from math import sqrt\n",
    "def perfect_no(n):\n",
    "    sum=0\n",
    "    for i in range(1,int(sqrt(n))+1,1):\n",
    "        if(n%i==0):\n",
    "            sum=sum+i+n//i\n",
    "        if(sqrt(n)==i):\n",
    "            sum-=i\n",
    "    if((sum-n)==n):\n",
    "        return True\n",
    "    else:\n",
    "        return False\n",
    "n=int(input())\n",
    "l=[]\n",
    "for i in range(2,n+1,1):\n",
    "    b=perfect_no(i)\n",
    "    if(b==True):\n",
    "        l.append(i)\n",
    "print(l)\n",
    "            "
   ]
  },
  {
   "cell_type": "markdown",
   "metadata": {},
   "source": [
    "## Q.11. Two different numbers are called amicable numbers if the sum of the proper divisors of each is equal to the other number. For example 220 and 284 are amicable numbers. Sum of proper divisors of 220 = 1+2+4+5+10+11+20+22+44+55+110 = 284 Sum of proper divisors of 284 = 1+2+4+71+142 = 220 "
   ]
  },
  {
   "cell_type": "code",
   "execution_count": 19,
   "metadata": {},
   "outputs": [
    {
     "name": "stdout",
     "output_type": "stream",
     "text": [
      "220\n",
      "284\n",
      "amicable\n"
     ]
    }
   ],
   "source": [
    "from math import sqrt\n",
    "n=int(input())\n",
    "m=int(input())\n",
    "l1=[]\n",
    "l2=[]\n",
    "for i in range(1,int(sqrt(n)+1),1):\n",
    "        if(n%i==0):\n",
    "            l1.append(i)\n",
    "            l1.append(n//i)\n",
    "for i in range(1,int(sqrt(m)+1),1):\n",
    "    if(m%i==0):\n",
    "        l2.append(i)\n",
    "        l2.append(m//i)\n",
    "l1.append(-n)\n",
    "l2.append(-m)\n",
    "if(sum(l1)==m and sum(l2)==n):\n",
    "    print('amicable')\n",
    "else:\n",
    "    print('not amicable')\n",
    "#print(l1)\n",
    "#print(l2)\n"
   ]
  },
  {
   "cell_type": "markdown",
   "metadata": {},
   "source": [
    "## Q.12 Write a program which can filter odd numbers in a list by using filter function"
   ]
  },
  {
   "cell_type": "code",
   "execution_count": 21,
   "metadata": {},
   "outputs": [
    {
     "name": "stdout",
     "output_type": "stream",
     "text": [
      "1 2 3 4 5 6 7 8 9\n",
      "[1, 3, 5, 7, 9]\n"
     ]
    }
   ],
   "source": [
    "l=list( map(int,(input().split())) )\n",
    "l1=list( filter( (lambda x:x%2==1) ,l) )\n",
    "print(l1)"
   ]
  },
  {
   "cell_type": "markdown",
   "metadata": {},
   "source": [
    "## Q.13 Write a program which can map() to make a list whose elements are cube of elements in a given list\n"
   ]
  },
  {
   "cell_type": "code",
   "execution_count": 22,
   "metadata": {},
   "outputs": [
    {
     "name": "stdout",
     "output_type": "stream",
     "text": [
      " 1 2 3 4 5 6 7 8 9\n",
      "[1, 8, 27, 64, 125, 216, 343, 512, 729]\n"
     ]
    }
   ],
   "source": [
    "def cube(n):\n",
    "    return(n*n*n)\n",
    "l=list(map(int,input().split()))\n",
    "l1=list(map(cube,l))\n",
    "print(l1)"
   ]
  },
  {
   "cell_type": "markdown",
   "metadata": {},
   "source": [
    "## Q.14 Write a program which can map() and filter() to make a list whose elements are cube of even number in a given list"
   ]
  },
  {
   "cell_type": "code",
   "execution_count": 23,
   "metadata": {},
   "outputs": [
    {
     "name": "stdout",
     "output_type": "stream",
     "text": [
      "1 2 3 4 5 \n",
      "[8, 64]\n"
     ]
    }
   ],
   "source": [
    "def cube(n):\n",
    "    return(n*n*n)\n",
    "l=list(map(int,input().split()))\n",
    "l1=filter(lambda x:x%2==0,l)\n",
    "l2=list(map(cube,l1))\n",
    "print(l2)"
   ]
  },
  {
   "cell_type": "markdown",
   "metadata": {},
   "source": []
  },
  {
   "cell_type": "code",
   "execution_count": null,
   "metadata": {},
   "outputs": [],
   "source": [
    "\n",
    "    "
   ]
  },
  {
   "cell_type": "code",
   "execution_count": null,
   "metadata": {},
   "outputs": [],
   "source": []
  },
  {
   "cell_type": "code",
   "execution_count": null,
   "metadata": {},
   "outputs": [],
   "source": [
    "\n",
    "        "
   ]
  },
  {
   "cell_type": "code",
   "execution_count": null,
   "metadata": {},
   "outputs": [],
   "source": []
  },
  {
   "cell_type": "markdown",
   "metadata": {},
   "source": [
    "\n"
   ]
  },
  {
   "cell_type": "code",
   "execution_count": null,
   "metadata": {},
   "outputs": [],
   "source": []
  },
  {
   "cell_type": "code",
   "execution_count": null,
   "metadata": {},
   "outputs": [],
   "source": []
  },
  {
   "cell_type": "code",
   "execution_count": null,
   "metadata": {},
   "outputs": [],
   "source": []
  },
  {
   "cell_type": "code",
   "execution_count": null,
   "metadata": {},
   "outputs": [],
   "source": [
    "\n"
   ]
  },
  {
   "cell_type": "code",
   "execution_count": null,
   "metadata": {},
   "outputs": [],
   "source": [
    " "
   ]
  },
  {
   "cell_type": "code",
   "execution_count": null,
   "metadata": {},
   "outputs": [],
   "source": [
    "\n",
    "    "
   ]
  },
  {
   "cell_type": "code",
   "execution_count": null,
   "metadata": {},
   "outputs": [],
   "source": []
  },
  {
   "cell_type": "code",
   "execution_count": null,
   "metadata": {},
   "outputs": [],
   "source": []
  },
  {
   "cell_type": "code",
   "execution_count": null,
   "metadata": {},
   "outputs": [],
   "source": []
  },
  {
   "cell_type": "markdown",
   "metadata": {},
   "source": []
  },
  {
   "cell_type": "code",
   "execution_count": null,
   "metadata": {},
   "outputs": [],
   "source": []
  },
  {
   "cell_type": "code",
   "execution_count": null,
   "metadata": {},
   "outputs": [],
   "source": [
    "\n"
   ]
  },
  {
   "cell_type": "code",
   "execution_count": null,
   "metadata": {},
   "outputs": [],
   "source": []
  },
  {
   "cell_type": "code",
   "execution_count": null,
   "metadata": {},
   "outputs": [],
   "source": []
  },
  {
   "cell_type": "code",
   "execution_count": null,
   "metadata": {},
   "outputs": [],
   "source": [
    "\n",
    "        "
   ]
  },
  {
   "cell_type": "code",
   "execution_count": null,
   "metadata": {},
   "outputs": [],
   "source": []
  },
  {
   "cell_type": "code",
   "execution_count": null,
   "metadata": {},
   "outputs": [],
   "source": []
  }
 ],
 "metadata": {
  "kernelspec": {
   "display_name": "Python 3",
   "language": "python",
   "name": "python3"
  },
  "language_info": {
   "codemirror_mode": {
    "name": "ipython",
    "version": 3
   },
   "file_extension": ".py",
   "mimetype": "text/x-python",
   "name": "python",
   "nbconvert_exporter": "python",
   "pygments_lexer": "ipython3",
   "version": "3.7.1"
  }
 },
 "nbformat": 4,
 "nbformat_minor": 2
}
